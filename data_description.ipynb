{
 "cells": [
  {
   "cell_type": "markdown",
   "id": "bf4ccb8f",
   "metadata": {},
   "source": [
    "# Data description\n",
    "Ich möchte vorhersage zum \"price actual\", also die Kosten für Strom in Euro pro MegaWattstunde treffen."
   ]
  },
  {
   "cell_type": "markdown",
   "id": "e6751f72-2087-45a3-8aca-70c1e23b2750",
   "metadata": {},
   "source": [
    "# Statistische Informationen"
   ]
  },
  {
   "cell_type": "markdown",
   "id": "f35cf16d-4f55-4b32-8b78-e42cb5f34807",
   "metadata": {},
   "source": [
    "# Grafik"
   ]
  }
 ],
 "metadata": {
  "kernelspec": {
   "display_name": "Python 3 (ipykernel)",
   "language": "python",
   "name": "python3"
  },
  "language_info": {
   "codemirror_mode": {
    "name": "ipython",
    "version": 3
   },
   "file_extension": ".py",
   "mimetype": "text/x-python",
   "name": "python",
   "nbconvert_exporter": "python",
   "pygments_lexer": "ipython3",
   "version": "3.12.6"
  }
 },
 "nbformat": 4,
 "nbformat_minor": 5
}
