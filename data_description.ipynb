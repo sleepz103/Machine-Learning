{
 "cells": [
  {
   "cell_type": "markdown",
   "id": "bf4ccb8f",
   "metadata": {},
   "source": [
    "# Data description\n",
    "Ich möchte vorhersage zum \"price actual\", also die Kosten für Strom in Euro pro MegaWattstunde treffen."
   ]
  },
  {
   "cell_type": "code",
   "execution_count": null,
   "id": "67d218b9-8983-46ee-9923-e63200bb843e",
   "metadata": {},
   "outputs": [],
   "source": []
  }
 ],
 "metadata": {
  "kernelspec": {
   "display_name": "Python 3 (ipykernel)",
   "language": "python",
   "name": "python3"
  },
  "language_info": {
   "codemirror_mode": {
    "name": "ipython",
    "version": 3
   },
   "file_extension": ".py",
   "mimetype": "text/x-python",
   "name": "python",
   "nbconvert_exporter": "python",
   "pygments_lexer": "ipython3",
   "version": "3.12.6"
  }
 },
 "nbformat": 4,
 "nbformat_minor": 5
}
