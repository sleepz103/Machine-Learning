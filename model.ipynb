{
 "cells": [
  {
   "cell_type": "markdown",
   "id": "fdf756eb-f258-476f-8174-ead94ee24a58",
   "metadata": {},
   "source": [
    "# Datensatz teilen"
   ]
  },
  {
   "cell_type": "code",
   "execution_count": 10,
   "id": "b3d3a83a-0cbf-4bb5-915d-8ff3017d7576",
   "metadata": {},
   "outputs": [
    {
     "ename": "NameError",
     "evalue": "name 'scaler' is not defined",
     "output_type": "error",
     "traceback": [
      "\u001b[31m---------------------------------------------------------------------------\u001b[39m",
      "\u001b[31mNameError\u001b[39m                                 Traceback (most recent call last)",
      "\u001b[36mCell\u001b[39m\u001b[36m \u001b[39m\u001b[32mIn[10]\u001b[39m\u001b[32m, line 22\u001b[39m\n\u001b[32m     16\u001b[39m df.drop([\u001b[33m\"\u001b[39m\u001b[33mtimestamp\u001b[39m\u001b[33m\"\u001b[39m], axis=\u001b[32m1\u001b[39m, inplace=\u001b[38;5;28;01mTrue\u001b[39;00m)\n\u001b[32m     19\u001b[39m columns_to_scale = [[\u001b[33m'\u001b[39m\u001b[33mtemperature\u001b[39m\u001b[33m'\u001b[39m,\u001b[33m'\u001b[39m\u001b[33mgeneration_solar\u001b[39m\u001b[33m'\u001b[39m, \u001b[33m'\u001b[39m\u001b[33mgeneration_wind_onshore\u001b[39m\u001b[33m'\u001b[39m, \u001b[33m'\u001b[39m\u001b[33mtotal_energy_demand\u001b[39m\u001b[33m'\u001b[39m, \u001b[33m'\u001b[39m\u001b[33mhumidity\u001b[39m\u001b[33m'\u001b[39m, \u001b[33m'\u001b[39m\u001b[33mhour\u001b[39m\u001b[33m'\u001b[39m, \u001b[33m'\u001b[39m\u001b[33mdayofweek\u001b[39m\u001b[33m'\u001b[39m, \u001b[33m'\u001b[39m\u001b[33mmonth\u001b[39m\u001b[33m'\u001b[39m]]\n\u001b[32m---> \u001b[39m\u001b[32m22\u001b[39m df[columns_to_scale] = \u001b[43mscaler\u001b[49m.fit_transform(df[features_to_scale])\n\u001b[32m     24\u001b[39m df.head()\n",
      "\u001b[31mNameError\u001b[39m: name 'scaler' is not defined"
     ]
    }
   ],
   "source": [
    "import pandas as pd\n",
    "import os\n",
    "import matplotlib.pyplot as plt\n",
    "from sklearn.preprocessing import MinMaxScaler\n",
    "\n",
    "valencia_data = pd.read_csv(os.path.join(\"weather_energy_join_1.csv\"))\n",
    "valencia_data.drop([\"city_name\"], axis=1, inplace=True)\n",
    "\n",
    "df = pd.DataFrame(valencia_data)\n",
    "\n",
    "df['timestamp'] = pd.to_datetime(df['timestamp'], dayfirst=True)\n",
    "df['hour'] = df['timestamp'].dt.hour\n",
    "df['dayofweek'] = df['timestamp'].dt.dayofweek\n",
    "df['month'] = df['timestamp'].dt.month\n",
    "\n",
    "df.drop([\"timestamp\"], axis=1, inplace=True)\n",
    "\n",
    "\n",
    "columns_to_scale = [['temperature','generation_solar', 'generation_wind_onshore', 'total_energy_demand', 'humidity', 'hour', 'dayofweek', 'month']]\n",
    "\n",
    "\n",
    "df[columns_to_scale] = scaler.fit_transform(df[features_to_scale])\n",
    "\n",
    "df.head()"
   ]
  },
  {
   "cell_type": "code",
   "execution_count": 6,
   "id": "2702e966-f31d-4c92-b0c7-09004f2d18a9",
   "metadata": {},
   "outputs": [],
   "source": [
    "X = df[[\n",
    "    \"temperature\", \"humidity\", \"wind_speed\", \"clouds_coverage\",\n",
    "    \"weather_clear\", \"weather_cloudy\", \"weather_rain\",\n",
    "    \"generation_solar\", \"generation_wind_onshore\",\n",
    "    \"total_energy_demand\", \"hour\", \"dayofweek\", \"month\"\n",
    "]]\n",
    "y = df[[\"price\"]]"
   ]
  },
  {
   "cell_type": "code",
   "execution_count": 7,
   "id": "4b93ca0e-7a0a-4709-8d9b-abc4f3868f9b",
   "metadata": {},
   "outputs": [
    {
     "data": {
      "text/plain": [
       "(28048, 7012)"
      ]
     },
     "execution_count": 7,
     "metadata": {},
     "output_type": "execute_result"
    }
   ],
   "source": [
    "from sklearn.model_selection import train_test_split\n",
    "\n",
    "X_train, X_test, y_train, y_test = train_test_split(\n",
    "   X, y, test_size = 0.2, random_state = 30\n",
    ")\n",
    "\n",
    "len(X_train), len(X_test)"
   ]
  },
  {
   "cell_type": "markdown",
   "id": "82d0ca62-9dea-466b-8903-764fc046a50c",
   "metadata": {},
   "source": [
    "# Algorithmus wählen"
   ]
  },
  {
   "cell_type": "code",
   "execution_count": 8,
   "id": "871c4a31-57ce-45d4-a86a-cb7f6fcb3bdb",
   "metadata": {},
   "outputs": [
    {
     "name": "stdout",
     "output_type": "stream",
     "text": [
      "Nearest Neighbors 0.43\n",
      "Stochastic Gradient Descent -70000692898592.11\n",
      "Linear SVR 0.29\n",
      "Decision Tree 0.37\n",
      "Random Forest 0.27\n",
      "Neural Net 0.47\n"
     ]
    }
   ],
   "source": [
    "from sklearn.neural_network import MLPRegressor\n",
    "from sklearn.neighbors import KNeighborsRegressor\n",
    "from sklearn.linear_model import SGDRegressor\n",
    "from sklearn.svm import SVR\n",
    "from sklearn.tree import DecisionTreeRegressor\n",
    "from sklearn.ensemble import RandomForestRegressor\n",
    "\n",
    "regressors = {\n",
    "    \"Nearest Neighbors\": KNeighborsRegressor(3),\n",
    "    \"Stochastic Gradient Descent\": SGDRegressor(max_iter=1000, tol=1e-3),\n",
    "    \"Linear SVR\": SVR(kernel=\"linear\", C=0.025),\n",
    "    \"Decision Tree\": DecisionTreeRegressor(max_depth=5),\n",
    "    \"Random Forest\": RandomForestRegressor(max_depth=5, n_estimators=10, max_features=1),\n",
    "    \"Neural Net\": MLPRegressor(alpha=1, max_iter=500, early_stopping=True)\n",
    "}\n",
    "\n",
    "for name, reg in regressors.items():\n",
    "    reg.fit(X_train, y_train.values.ravel())\n",
    "    score = reg.score(X_test, y_test)\n",
    "    print(name, round(score, 2))"
   ]
  },
  {
   "cell_type": "code",
   "execution_count": null,
   "id": "55131fca-8eac-4a6b-9b95-76796324af10",
   "metadata": {},
   "outputs": [],
   "source": [
    "import joblib\n",
    "joblib.dump(regressors[\"\"], 'valencia_.joblib')\n",
    "best_model = joblib.load('valencia_.joblib')\n",
    "best_model"
   ]
  },
  {
   "cell_type": "markdown",
   "id": "1cd856e1-5292-4422-b4e5-2db6273d8d9d",
   "metadata": {},
   "source": [
    "# Testen"
   ]
  },
  {
   "cell_type": "code",
   "execution_count": null,
   "id": "f44f86c4-77dd-4b6e-8c4e-3dda52ea68f4",
   "metadata": {},
   "outputs": [],
   "source": []
  }
 ],
 "metadata": {
  "kernelspec": {
   "display_name": "Python 3 (ipykernel)",
   "language": "python",
   "name": "python3"
  },
  "language_info": {
   "codemirror_mode": {
    "name": "ipython",
    "version": 3
   },
   "file_extension": ".py",
   "mimetype": "text/x-python",
   "name": "python",
   "nbconvert_exporter": "python",
   "pygments_lexer": "ipython3",
   "version": "3.12.6"
  }
 },
 "nbformat": 4,
 "nbformat_minor": 5
}
